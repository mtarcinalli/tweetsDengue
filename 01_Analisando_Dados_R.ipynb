{
 "cells": [
  {
   "cell_type": "markdown",
   "metadata": {},
   "source": [
    "# Análise Tweets Dengue"
   ]
  },
  {
   "cell_type": "code",
   "execution_count": 1,
   "metadata": {},
   "outputs": [
    {
     "name": "stderr",
     "output_type": "stream",
     "text": [
      "Loading required package: DBI\n"
     ]
    }
   ],
   "source": [
    "# carregando bibliotecas\n",
    "library(\"RPostgreSQL\")\n",
    "library(\"ggplot2\")\n",
    "\n",
    "# configurações PostgreSQL\n",
    "db_server=\"kode.ffclrp.usp.br\"\n",
    "db_port=\"5432\"\n",
    "db_user=\"\"\n",
    "db_password=\"\"\n",
    "db_name=\"twitter\"\n",
    "\n",
    "# carregando configurações PostgreSQL do arquivo\n",
    "source(\"conf.R\")\n",
    "\n",
    "# conectando com o banco de dados\n",
    "drv <- dbDriver(\"PostgreSQL\")\n",
    "con <- dbConnect(drv, dbname = db_name,\n",
    "                 host = db_server, port = db_port,\n",
    "                 user = db_user, password = db_password)"
   ]
  },
  {
   "cell_type": "markdown",
   "metadata": {},
   "source": [
    "## Tweets Por Mês"
   ]
  },
  {
   "cell_type": "code",
   "execution_count": 2,
   "metadata": {},
   "outputs": [],
   "source": [
    "twsMes <- dbGetQuery(con, paste(\"SELECT \" ,\n",
    "                          \"to_char(datatweet, 'YYYY-MM') as data, \" ,\n",
    "                          \"count(codtweet) AS tweet FROM saude \" ,\n",
    "                          \"WHERE lower(text) LIKE '%dengue%'\" ,\n",
    "                          \"GROUP BY 1\" ,\n",
    "                          \"ORDER BY 1\"))"
   ]
  },
  {
   "cell_type": "code",
   "execution_count": 3,
   "metadata": {},
   "outputs": [
    {
     "data": {
      "text/html": [
       "<table>\n",
       "<thead><tr><th scope=col>data</th><th scope=col>tweet</th></tr></thead>\n",
       "<tbody>\n",
       "\t<tr><td>2014-11</td><td>  1084 </td></tr>\n",
       "\t<tr><td>2014-12</td><td> 12581 </td></tr>\n",
       "\t<tr><td>2015-01</td><td> 42669 </td></tr>\n",
       "\t<tr><td>2015-02</td><td> 86454 </td></tr>\n",
       "\t<tr><td>2015-03</td><td>138819 </td></tr>\n",
       "\t<tr><td>2015-04</td><td>163845 </td></tr>\n",
       "\t<tr><td>2015-05</td><td>161159 </td></tr>\n",
       "\t<tr><td>2015-06</td><td> 52782 </td></tr>\n",
       "\t<tr><td>2015-07</td><td> 38917 </td></tr>\n",
       "\t<tr><td>2015-08</td><td> 27341 </td></tr>\n",
       "\t<tr><td>2015-09</td><td> 24650 </td></tr>\n",
       "\t<tr><td>2015-10</td><td> 32723 </td></tr>\n",
       "\t<tr><td>2015-11</td><td> 52058 </td></tr>\n",
       "\t<tr><td>2015-12</td><td>101303 </td></tr>\n",
       "\t<tr><td>2016-01</td><td>113365 </td></tr>\n",
       "\t<tr><td>2016-02</td><td>202738 </td></tr>\n",
       "\t<tr><td>2016-03</td><td>141683 </td></tr>\n",
       "\t<tr><td>2016-04</td><td>115606 </td></tr>\n",
       "\t<tr><td>2016-05</td><td> 45053 </td></tr>\n",
       "\t<tr><td>2016-06</td><td> 29066 </td></tr>\n",
       "\t<tr><td>2016-07</td><td> 30212 </td></tr>\n",
       "\t<tr><td>2016-08</td><td> 33484 </td></tr>\n",
       "\t<tr><td>2016-09</td><td> 16610 </td></tr>\n",
       "\t<tr><td>2016-10</td><td> 18664 </td></tr>\n",
       "\t<tr><td>2016-11</td><td> 16809 </td></tr>\n",
       "\t<tr><td>2016-12</td><td> 21040 </td></tr>\n",
       "\t<tr><td>2017-01</td><td> 28217 </td></tr>\n",
       "\t<tr><td>2017-02</td><td> 32284 </td></tr>\n",
       "\t<tr><td>2017-03</td><td> 19772 </td></tr>\n",
       "\t<tr><td>2017-04</td><td> 15405 </td></tr>\n",
       "\t<tr><td>2017-05</td><td> 26087 </td></tr>\n",
       "\t<tr><td>2017-06</td><td> 12024 </td></tr>\n",
       "\t<tr><td>2017-07</td><td> 11639 </td></tr>\n",
       "\t<tr><td>2017-08</td><td>  9153 </td></tr>\n",
       "\t<tr><td>2017-09</td><td>  9636 </td></tr>\n",
       "\t<tr><td>2017-10</td><td> 13944 </td></tr>\n",
       "\t<tr><td>2017-11</td><td> 16177 </td></tr>\n",
       "\t<tr><td>2017-12</td><td> 14226 </td></tr>\n",
       "\t<tr><td>2018-01</td><td>   185 </td></tr>\n",
       "</tbody>\n",
       "</table>\n"
      ],
      "text/latex": [
       "\\begin{tabular}{r|ll}\n",
       " data & tweet\\\\\n",
       "\\hline\n",
       "\t 2014-11 &   1084 \\\\\n",
       "\t 2014-12 &  12581 \\\\\n",
       "\t 2015-01 &  42669 \\\\\n",
       "\t 2015-02 &  86454 \\\\\n",
       "\t 2015-03 & 138819 \\\\\n",
       "\t 2015-04 & 163845 \\\\\n",
       "\t 2015-05 & 161159 \\\\\n",
       "\t 2015-06 &  52782 \\\\\n",
       "\t 2015-07 &  38917 \\\\\n",
       "\t 2015-08 &  27341 \\\\\n",
       "\t 2015-09 &  24650 \\\\\n",
       "\t 2015-10 &  32723 \\\\\n",
       "\t 2015-11 &  52058 \\\\\n",
       "\t 2015-12 & 101303 \\\\\n",
       "\t 2016-01 & 113365 \\\\\n",
       "\t 2016-02 & 202738 \\\\\n",
       "\t 2016-03 & 141683 \\\\\n",
       "\t 2016-04 & 115606 \\\\\n",
       "\t 2016-05 &  45053 \\\\\n",
       "\t 2016-06 &  29066 \\\\\n",
       "\t 2016-07 &  30212 \\\\\n",
       "\t 2016-08 &  33484 \\\\\n",
       "\t 2016-09 &  16610 \\\\\n",
       "\t 2016-10 &  18664 \\\\\n",
       "\t 2016-11 &  16809 \\\\\n",
       "\t 2016-12 &  21040 \\\\\n",
       "\t 2017-01 &  28217 \\\\\n",
       "\t 2017-02 &  32284 \\\\\n",
       "\t 2017-03 &  19772 \\\\\n",
       "\t 2017-04 &  15405 \\\\\n",
       "\t 2017-05 &  26087 \\\\\n",
       "\t 2017-06 &  12024 \\\\\n",
       "\t 2017-07 &  11639 \\\\\n",
       "\t 2017-08 &   9153 \\\\\n",
       "\t 2017-09 &   9636 \\\\\n",
       "\t 2017-10 &  13944 \\\\\n",
       "\t 2017-11 &  16177 \\\\\n",
       "\t 2017-12 &  14226 \\\\\n",
       "\t 2018-01 &    185 \\\\\n",
       "\\end{tabular}\n"
      ],
      "text/markdown": [
       "\n",
       "data | tweet | \n",
       "|---|---|---|---|---|---|---|---|---|---|---|---|---|---|---|---|---|---|---|---|---|---|---|---|---|---|---|---|---|---|---|---|---|---|---|---|---|---|---|\n",
       "| 2014-11 |   1084  | \n",
       "| 2014-12 |  12581  | \n",
       "| 2015-01 |  42669  | \n",
       "| 2015-02 |  86454  | \n",
       "| 2015-03 | 138819  | \n",
       "| 2015-04 | 163845  | \n",
       "| 2015-05 | 161159  | \n",
       "| 2015-06 |  52782  | \n",
       "| 2015-07 |  38917  | \n",
       "| 2015-08 |  27341  | \n",
       "| 2015-09 |  24650  | \n",
       "| 2015-10 |  32723  | \n",
       "| 2015-11 |  52058  | \n",
       "| 2015-12 | 101303  | \n",
       "| 2016-01 | 113365  | \n",
       "| 2016-02 | 202738  | \n",
       "| 2016-03 | 141683  | \n",
       "| 2016-04 | 115606  | \n",
       "| 2016-05 |  45053  | \n",
       "| 2016-06 |  29066  | \n",
       "| 2016-07 |  30212  | \n",
       "| 2016-08 |  33484  | \n",
       "| 2016-09 |  16610  | \n",
       "| 2016-10 |  18664  | \n",
       "| 2016-11 |  16809  | \n",
       "| 2016-12 |  21040  | \n",
       "| 2017-01 |  28217  | \n",
       "| 2017-02 |  32284  | \n",
       "| 2017-03 |  19772  | \n",
       "| 2017-04 |  15405  | \n",
       "| 2017-05 |  26087  | \n",
       "| 2017-06 |  12024  | \n",
       "| 2017-07 |  11639  | \n",
       "| 2017-08 |   9153  | \n",
       "| 2017-09 |   9636  | \n",
       "| 2017-10 |  13944  | \n",
       "| 2017-11 |  16177  | \n",
       "| 2017-12 |  14226  | \n",
       "| 2018-01 |    185  | \n",
       "\n",
       "\n"
      ],
      "text/plain": [
       "   data    tweet \n",
       "1  2014-11   1084\n",
       "2  2014-12  12581\n",
       "3  2015-01  42669\n",
       "4  2015-02  86454\n",
       "5  2015-03 138819\n",
       "6  2015-04 163845\n",
       "7  2015-05 161159\n",
       "8  2015-06  52782\n",
       "9  2015-07  38917\n",
       "10 2015-08  27341\n",
       "11 2015-09  24650\n",
       "12 2015-10  32723\n",
       "13 2015-11  52058\n",
       "14 2015-12 101303\n",
       "15 2016-01 113365\n",
       "16 2016-02 202738\n",
       "17 2016-03 141683\n",
       "18 2016-04 115606\n",
       "19 2016-05  45053\n",
       "20 2016-06  29066\n",
       "21 2016-07  30212\n",
       "22 2016-08  33484\n",
       "23 2016-09  16610\n",
       "24 2016-10  18664\n",
       "25 2016-11  16809\n",
       "26 2016-12  21040\n",
       "27 2017-01  28217\n",
       "28 2017-02  32284\n",
       "29 2017-03  19772\n",
       "30 2017-04  15405\n",
       "31 2017-05  26087\n",
       "32 2017-06  12024\n",
       "33 2017-07  11639\n",
       "34 2017-08   9153\n",
       "35 2017-09   9636\n",
       "36 2017-10  13944\n",
       "37 2017-11  16177\n",
       "38 2017-12  14226\n",
       "39 2018-01    185"
      ]
     },
     "metadata": {},
     "output_type": "display_data"
    }
   ],
   "source": [
    "twsMes"
   ]
  },
  {
   "cell_type": "code",
   "execution_count": 4,
   "metadata": {},
   "outputs": [
    {
     "data": {},
     "metadata": {},
     "output_type": "display_data"
    },
    {
     "data": {
      "image/png": "[encoded data removed]",
      "text/plain": [
       "plot without title"
      ]
     },
     "metadata": {},
     "output_type": "display_data"
    }
   ],
   "source": [
    "ggplot(data = twsMes, aes(x = data, y = as.numeric(tweet)  )) +\n",
    "  geom_bar(aes(fill = data), stat = \"identity\", fill = \"#FF6666\") +\n",
    "  theme(legend.position = \"none\", axis.text.x = element_text(angle = 45, hjust = 1)) +\n",
    "  xlab(\"Data\") + \n",
    "  ylab(\"Tweets\") + \n",
    "  ggtitle(\"Tweets por mês\")"
   ]
  },
  {
   "cell_type": "markdown",
   "metadata": {},
   "source": [
    "# Tweets Janeiro de 2015"
   ]
  },
  {
   "cell_type": "code",
   "execution_count": 5,
   "metadata": {},
   "outputs": [],
   "source": [
    "twsJaneiro <- dbGetQuery(con, paste(\"SELECT \",\n",
    "                                     \"datatweet, \",\n",
    "                                     \"count(codtweet) AS tweet FROM saude \",\n",
    "                                     \"WHERE lower(text) LIKE '%dengue%' \",\n",
    "                                     \"AND datatweet BETWEEN '2015-01-01' AND '2015-01-31' \",\n",
    "                                     \"GROUP BY 1\",\n",
    "                                     \"ORDER BY 1\"))"
   ]
  },
  {
   "cell_type": "code",
   "execution_count": 6,
   "metadata": {},
   "outputs": [
    {
     "data": {
      "text/html": [
       "<table>\n",
       "<thead><tr><th scope=col>datatweet</th><th scope=col>tweet</th></tr></thead>\n",
       "<tbody>\n",
       "\t<tr><td>2015-01-01</td><td> 258      </td></tr>\n",
       "\t<tr><td>2015-01-02</td><td> 670      </td></tr>\n",
       "\t<tr><td>2015-01-03</td><td> 882      </td></tr>\n",
       "\t<tr><td>2015-01-04</td><td> 593      </td></tr>\n",
       "\t<tr><td>2015-01-05</td><td> 533      </td></tr>\n",
       "\t<tr><td>2015-01-06</td><td> 825      </td></tr>\n",
       "\t<tr><td>2015-01-07</td><td>1737      </td></tr>\n",
       "\t<tr><td>2015-01-08</td><td>1587      </td></tr>\n",
       "\t<tr><td>2015-01-09</td><td>1295      </td></tr>\n",
       "\t<tr><td>2015-01-10</td><td>1633      </td></tr>\n",
       "\t<tr><td>2015-01-11</td><td> 535      </td></tr>\n",
       "\t<tr><td>2015-01-12</td><td>2006      </td></tr>\n",
       "\t<tr><td>2015-01-13</td><td>1726      </td></tr>\n",
       "\t<tr><td>2015-01-14</td><td>1499      </td></tr>\n",
       "\t<tr><td>2015-01-15</td><td> 804      </td></tr>\n",
       "\t<tr><td>2015-01-16</td><td>2597      </td></tr>\n",
       "\t<tr><td>2015-01-17</td><td>1168      </td></tr>\n",
       "\t<tr><td>2015-01-18</td><td> 926      </td></tr>\n",
       "\t<tr><td>2015-01-19</td><td>1062      </td></tr>\n",
       "\t<tr><td>2015-01-20</td><td>1337      </td></tr>\n",
       "\t<tr><td>2015-01-21</td><td>1721      </td></tr>\n",
       "\t<tr><td>2015-01-22</td><td>1131      </td></tr>\n",
       "\t<tr><td>2015-01-23</td><td>1337      </td></tr>\n",
       "\t<tr><td>2015-01-24</td><td>1673      </td></tr>\n",
       "\t<tr><td>2015-01-25</td><td>1560      </td></tr>\n",
       "\t<tr><td>2015-01-26</td><td> 953      </td></tr>\n",
       "\t<tr><td>2015-01-27</td><td>1706      </td></tr>\n",
       "\t<tr><td>2015-01-28</td><td>1893      </td></tr>\n",
       "\t<tr><td>2015-01-29</td><td>3309      </td></tr>\n",
       "\t<tr><td>2015-01-30</td><td>2247      </td></tr>\n",
       "\t<tr><td>2015-01-31</td><td>1466      </td></tr>\n",
       "</tbody>\n",
       "</table>\n"
      ],
      "text/latex": [
       "\\begin{tabular}{r|ll}\n",
       " datatweet & tweet\\\\\n",
       "\\hline\n",
       "\t 2015-01-01 &  258      \\\\\n",
       "\t 2015-01-02 &  670      \\\\\n",
       "\t 2015-01-03 &  882      \\\\\n",
       "\t 2015-01-04 &  593      \\\\\n",
       "\t 2015-01-05 &  533      \\\\\n",
       "\t 2015-01-06 &  825      \\\\\n",
       "\t 2015-01-07 & 1737      \\\\\n",
       "\t 2015-01-08 & 1587      \\\\\n",
       "\t 2015-01-09 & 1295      \\\\\n",
       "\t 2015-01-10 & 1633      \\\\\n",
       "\t 2015-01-11 &  535      \\\\\n",
       "\t 2015-01-12 & 2006      \\\\\n",
       "\t 2015-01-13 & 1726      \\\\\n",
       "\t 2015-01-14 & 1499      \\\\\n",
       "\t 2015-01-15 &  804      \\\\\n",
       "\t 2015-01-16 & 2597      \\\\\n",
       "\t 2015-01-17 & 1168      \\\\\n",
       "\t 2015-01-18 &  926      \\\\\n",
       "\t 2015-01-19 & 1062      \\\\\n",
       "\t 2015-01-20 & 1337      \\\\\n",
       "\t 2015-01-21 & 1721      \\\\\n",
       "\t 2015-01-22 & 1131      \\\\\n",
       "\t 2015-01-23 & 1337      \\\\\n",
       "\t 2015-01-24 & 1673      \\\\\n",
       "\t 2015-01-25 & 1560      \\\\\n",
       "\t 2015-01-26 &  953      \\\\\n",
       "\t 2015-01-27 & 1706      \\\\\n",
       "\t 2015-01-28 & 1893      \\\\\n",
       "\t 2015-01-29 & 3309      \\\\\n",
       "\t 2015-01-30 & 2247      \\\\\n",
       "\t 2015-01-31 & 1466      \\\\\n",
       "\\end{tabular}\n"
      ],
      "text/markdown": [
       "\n",
       "datatweet | tweet | \n",
       "|---|---|---|---|---|---|---|---|---|---|---|---|---|---|---|---|---|---|---|---|---|---|---|---|---|---|---|---|---|---|---|\n",
       "| 2015-01-01 |  258       | \n",
       "| 2015-01-02 |  670       | \n",
       "| 2015-01-03 |  882       | \n",
       "| 2015-01-04 |  593       | \n",
       "| 2015-01-05 |  533       | \n",
       "| 2015-01-06 |  825       | \n",
       "| 2015-01-07 | 1737       | \n",
       "| 2015-01-08 | 1587       | \n",
       "| 2015-01-09 | 1295       | \n",
       "| 2015-01-10 | 1633       | \n",
       "| 2015-01-11 |  535       | \n",
       "| 2015-01-12 | 2006       | \n",
       "| 2015-01-13 | 1726       | \n",
       "| 2015-01-14 | 1499       | \n",
       "| 2015-01-15 |  804       | \n",
       "| 2015-01-16 | 2597       | \n",
       "| 2015-01-17 | 1168       | \n",
       "| 2015-01-18 |  926       | \n",
       "| 2015-01-19 | 1062       | \n",
       "| 2015-01-20 | 1337       | \n",
       "| 2015-01-21 | 1721       | \n",
       "| 2015-01-22 | 1131       | \n",
       "| 2015-01-23 | 1337       | \n",
       "| 2015-01-24 | 1673       | \n",
       "| 2015-01-25 | 1560       | \n",
       "| 2015-01-26 |  953       | \n",
       "| 2015-01-27 | 1706       | \n",
       "| 2015-01-28 | 1893       | \n",
       "| 2015-01-29 | 3309       | \n",
       "| 2015-01-30 | 2247       | \n",
       "| 2015-01-31 | 1466       | \n",
       "\n",
       "\n"
      ],
      "text/plain": [
       "   datatweet  tweet\n",
       "1  2015-01-01  258 \n",
       "2  2015-01-02  670 \n",
       "3  2015-01-03  882 \n",
       "4  2015-01-04  593 \n",
       "5  2015-01-05  533 \n",
       "6  2015-01-06  825 \n",
       "7  2015-01-07 1737 \n",
       "8  2015-01-08 1587 \n",
       "9  2015-01-09 1295 \n",
       "10 2015-01-10 1633 \n",
       "11 2015-01-11  535 \n",
       "12 2015-01-12 2006 \n",
       "13 2015-01-13 1726 \n",
       "14 2015-01-14 1499 \n",
       "15 2015-01-15  804 \n",
       "16 2015-01-16 2597 \n",
       "17 2015-01-17 1168 \n",
       "18 2015-01-18  926 \n",
       "19 2015-01-19 1062 \n",
       "20 2015-01-20 1337 \n",
       "21 2015-01-21 1721 \n",
       "22 2015-01-22 1131 \n",
       "23 2015-01-23 1337 \n",
       "24 2015-01-24 1673 \n",
       "25 2015-01-25 1560 \n",
       "26 2015-01-26  953 \n",
       "27 2015-01-27 1706 \n",
       "28 2015-01-28 1893 \n",
       "29 2015-01-29 3309 \n",
       "30 2015-01-30 2247 \n",
       "31 2015-01-31 1466 "
      ]
     },
     "metadata": {},
     "output_type": "display_data"
    }
   ],
   "source": [
    "twsJaneiro"
   ]
  },
  {
   "cell_type": "code",
   "execution_count": 7,
   "metadata": {},
   "outputs": [
    {
     "data": {},
     "metadata": {},
     "output_type": "display_data"
    },
    {
     "data": {
      "image/png": "[encoded data removed]",
      "text/plain": [
       "plot without title"
      ]
     },
     "metadata": {},
     "output_type": "display_data"
    }
   ],
   "source": [
    "ggplot(data = twsJaneiro, aes(x = datatweet, y = as.numeric(tweet)  )) +\n",
    "  geom_bar(aes(fill = datatweet), stat = \"identity\", fill = \"#FF6666\") +\n",
    "  theme(legend.position = \"none\", axis.text.x = element_text(angle = 45, hjust = 1)) +\n",
    "  xlab(\"Data\") + \n",
    "  ylab(\"Tweets\") + \n",
    "  ggtitle(\"Tweets Janeiro\")"
   ]
  },
  {
   "cell_type": "markdown",
   "metadata": {},
   "source": [
    "## Tweets 2015:"
   ]
  },
  {
   "cell_type": "code",
   "execution_count": 8,
   "metadata": {},
   "outputs": [],
   "source": [
    "# Running SQL query\n",
    "all2015 <- dbGetQuery(con, paste(\"SELECT \" ,\n",
    "                          \"to_char(datatweet, 'YYYY-MM') as data, \" ,\n",
    "                          \"count(codtweet) AS tweet FROM saude \" ,\n",
    "                          \"WHERE lower(text) LIKE '%dengue%' \" ,\n",
    "                          \"AND datatweet BETWEEN '2015-01-01' AND '2015-12-31' \",\n",
    "                          \"GROUP BY 1\" ,\n",
    "                          \"ORDER BY 1\"))"
   ]
  },
  {
   "cell_type": "code",
   "execution_count": 9,
   "metadata": {},
   "outputs": [
    {
     "data": {
      "text/html": [
       "<table>\n",
       "<thead><tr><th scope=col>data</th><th scope=col>tweet</th></tr></thead>\n",
       "<tbody>\n",
       "\t<tr><td>2015-01</td><td> 42669 </td></tr>\n",
       "\t<tr><td>2015-02</td><td> 86454 </td></tr>\n",
       "\t<tr><td>2015-03</td><td>138819 </td></tr>\n",
       "\t<tr><td>2015-04</td><td>163845 </td></tr>\n",
       "\t<tr><td>2015-05</td><td>161159 </td></tr>\n",
       "\t<tr><td>2015-06</td><td> 52782 </td></tr>\n",
       "\t<tr><td>2015-07</td><td> 38917 </td></tr>\n",
       "\t<tr><td>2015-08</td><td> 27341 </td></tr>\n",
       "\t<tr><td>2015-09</td><td> 24650 </td></tr>\n",
       "\t<tr><td>2015-10</td><td> 32723 </td></tr>\n",
       "\t<tr><td>2015-11</td><td> 52058 </td></tr>\n",
       "\t<tr><td>2015-12</td><td>101303 </td></tr>\n",
       "</tbody>\n",
       "</table>\n"
      ],
      "text/latex": [
       "\\begin{tabular}{r|ll}\n",
       " data & tweet\\\\\n",
       "\\hline\n",
       "\t 2015-01 &  42669 \\\\\n",
       "\t 2015-02 &  86454 \\\\\n",
       "\t 2015-03 & 138819 \\\\\n",
       "\t 2015-04 & 163845 \\\\\n",
       "\t 2015-05 & 161159 \\\\\n",
       "\t 2015-06 &  52782 \\\\\n",
       "\t 2015-07 &  38917 \\\\\n",
       "\t 2015-08 &  27341 \\\\\n",
       "\t 2015-09 &  24650 \\\\\n",
       "\t 2015-10 &  32723 \\\\\n",
       "\t 2015-11 &  52058 \\\\\n",
       "\t 2015-12 & 101303 \\\\\n",
       "\\end{tabular}\n"
      ],
      "text/markdown": [
       "\n",
       "data | tweet | \n",
       "|---|---|---|---|---|---|---|---|---|---|---|---|\n",
       "| 2015-01 |  42669  | \n",
       "| 2015-02 |  86454  | \n",
       "| 2015-03 | 138819  | \n",
       "| 2015-04 | 163845  | \n",
       "| 2015-05 | 161159  | \n",
       "| 2015-06 |  52782  | \n",
       "| 2015-07 |  38917  | \n",
       "| 2015-08 |  27341  | \n",
       "| 2015-09 |  24650  | \n",
       "| 2015-10 |  32723  | \n",
       "| 2015-11 |  52058  | \n",
       "| 2015-12 | 101303  | \n",
       "\n",
       "\n"
      ],
      "text/plain": [
       "   data    tweet \n",
       "1  2015-01  42669\n",
       "2  2015-02  86454\n",
       "3  2015-03 138819\n",
       "4  2015-04 163845\n",
       "5  2015-05 161159\n",
       "6  2015-06  52782\n",
       "7  2015-07  38917\n",
       "8  2015-08  27341\n",
       "9  2015-09  24650\n",
       "10 2015-10  32723\n",
       "11 2015-11  52058\n",
       "12 2015-12 101303"
      ]
     },
     "metadata": {},
     "output_type": "display_data"
    }
   ],
   "source": [
    "all2015"
   ]
  },
  {
   "cell_type": "code",
   "execution_count": 10,
   "metadata": {},
   "outputs": [
    {
     "data": {},
     "metadata": {},
     "output_type": "display_data"
    },
    {
     "data": {
      "image/png": "[encoded data removed]",
      "text/plain": [
       "plot without title"
      ]
     },
     "metadata": {},
     "output_type": "display_data"
    }
   ],
   "source": [
    "ggplot(data = all2015, aes(x = data, y = as.numeric(tweet)  )) +\n",
    "  geom_bar(aes(fill = data), stat = \"identity\", fill = \"#FF6666\") +\n",
    "  theme(legend.position = \"none\", axis.text.x = element_text(angle = 45, hjust = 1)) +\n",
    "  xlab(\"Data\") + \n",
    "  ylab(\"Tweets\") + \n",
    "  ggtitle(\"Tweets 2015\")"
   ]
  },
  {
   "cell_type": "markdown",
   "metadata": {},
   "source": [
    "## Tweets sem RTs:"
   ]
  },
  {
   "cell_type": "code",
   "execution_count": 11,
   "metadata": {},
   "outputs": [],
   "source": [
    "# Running SQL query\n",
    "tws2015 <- dbGetQuery(con, paste(\"SELECT \" ,\n",
    "                          \"to_char(datatweet, 'YYYY-MM') as data, \" ,\n",
    "                          \"count(codtweet) AS tweet FROM saude \" ,\n",
    "                          \"WHERE lower(text) LIKE '%dengue%' \" ,\n",
    "                          \"AND lower(text) NOT LIKE 'rt%' \" ,\n",
    "                          \"AND datatweet BETWEEN '2015-01-01' AND '2015-12-31' \",\n",
    "                          \"GROUP BY 1\" ,\n",
    "                          \"ORDER BY 1\"))"
   ]
  },
  {
   "cell_type": "code",
   "execution_count": 12,
   "metadata": {},
   "outputs": [
    {
     "data": {
      "text/html": [
       "<table>\n",
       "<thead><tr><th scope=col>data</th><th scope=col>tweet</th></tr></thead>\n",
       "<tbody>\n",
       "\t<tr><td>2015-01</td><td> 34055 </td></tr>\n",
       "\t<tr><td>2015-02</td><td> 73055 </td></tr>\n",
       "\t<tr><td>2015-03</td><td>112457 </td></tr>\n",
       "\t<tr><td>2015-04</td><td>117664 </td></tr>\n",
       "\t<tr><td>2015-05</td><td>120168 </td></tr>\n",
       "\t<tr><td>2015-06</td><td> 40195 </td></tr>\n",
       "\t<tr><td>2015-07</td><td> 29111 </td></tr>\n",
       "\t<tr><td>2015-08</td><td> 20821 </td></tr>\n",
       "\t<tr><td>2015-09</td><td> 18368 </td></tr>\n",
       "\t<tr><td>2015-10</td><td> 24891 </td></tr>\n",
       "\t<tr><td>2015-11</td><td> 36582 </td></tr>\n",
       "\t<tr><td>2015-12</td><td> 70405 </td></tr>\n",
       "</tbody>\n",
       "</table>\n"
      ],
      "text/latex": [
       "\\begin{tabular}{r|ll}\n",
       " data & tweet\\\\\n",
       "\\hline\n",
       "\t 2015-01 &  34055 \\\\\n",
       "\t 2015-02 &  73055 \\\\\n",
       "\t 2015-03 & 112457 \\\\\n",
       "\t 2015-04 & 117664 \\\\\n",
       "\t 2015-05 & 120168 \\\\\n",
       "\t 2015-06 &  40195 \\\\\n",
       "\t 2015-07 &  29111 \\\\\n",
       "\t 2015-08 &  20821 \\\\\n",
       "\t 2015-09 &  18368 \\\\\n",
       "\t 2015-10 &  24891 \\\\\n",
       "\t 2015-11 &  36582 \\\\\n",
       "\t 2015-12 &  70405 \\\\\n",
       "\\end{tabular}\n"
      ],
      "text/markdown": [
       "\n",
       "data | tweet | \n",
       "|---|---|---|---|---|---|---|---|---|---|---|---|\n",
       "| 2015-01 |  34055  | \n",
       "| 2015-02 |  73055  | \n",
       "| 2015-03 | 112457  | \n",
       "| 2015-04 | 117664  | \n",
       "| 2015-05 | 120168  | \n",
       "| 2015-06 |  40195  | \n",
       "| 2015-07 |  29111  | \n",
       "| 2015-08 |  20821  | \n",
       "| 2015-09 |  18368  | \n",
       "| 2015-10 |  24891  | \n",
       "| 2015-11 |  36582  | \n",
       "| 2015-12 |  70405  | \n",
       "\n",
       "\n"
      ],
      "text/plain": [
       "   data    tweet \n",
       "1  2015-01  34055\n",
       "2  2015-02  73055\n",
       "3  2015-03 112457\n",
       "4  2015-04 117664\n",
       "5  2015-05 120168\n",
       "6  2015-06  40195\n",
       "7  2015-07  29111\n",
       "8  2015-08  20821\n",
       "9  2015-09  18368\n",
       "10 2015-10  24891\n",
       "11 2015-11  36582\n",
       "12 2015-12  70405"
      ]
     },
     "metadata": {},
     "output_type": "display_data"
    }
   ],
   "source": [
    "tws2015"
   ]
  },
  {
   "cell_type": "code",
   "execution_count": 13,
   "metadata": {},
   "outputs": [
    {
     "data": {},
     "metadata": {},
     "output_type": "display_data"
    },
    {
     "data": {
      "image/png": "[encoded data removed]",
      "text/plain": [
       "plot without title"
      ]
     },
     "metadata": {},
     "output_type": "display_data"
    }
   ],
   "source": [
    "ggplot(data = tws2015, aes(x = data, y = as.numeric(tweet)  )) +\n",
    "  geom_bar(aes(fill = data), stat = \"identity\", fill = \"#FF6666\") +\n",
    "  theme(legend.position = \"none\", axis.text.x = element_text(angle = 45, hjust = 1)) +\n",
    "  xlab(\"Data\") + \n",
    "  ylab(\"Tweets\") + \n",
    "  ggtitle(\"Tweets 2015: sem RTs\")"
   ]
  },
  {
   "cell_type": "markdown",
   "metadata": {},
   "source": [
    "## RTs"
   ]
  },
  {
   "cell_type": "code",
   "execution_count": 14,
   "metadata": {},
   "outputs": [],
   "source": [
    "# Running SQL query\n",
    "rts2015 <- dbGetQuery(con, paste(\"SELECT \" ,\n",
    "                          \"to_char(datatweet, 'YYYY-MM') as data, \" ,\n",
    "                          \"count(codtweet) AS tweet FROM saude \" ,\n",
    "                          \"WHERE lower(text) LIKE '%dengue%' \" ,\n",
    "                          \"AND lower(text) LIKE 'rt%' \" ,\n",
    "                          \"AND datatweet BETWEEN '2015-01-01' AND '2015-12-31' \",\n",
    "                          \"GROUP BY 1\" ,\n",
    "                          \"ORDER BY 1\"))"
   ]
  },
  {
   "cell_type": "code",
   "execution_count": 15,
   "metadata": {},
   "outputs": [
    {
     "data": {
      "text/html": [
       "<table>\n",
       "<thead><tr><th scope=col>data</th><th scope=col>tweet</th></tr></thead>\n",
       "<tbody>\n",
       "\t<tr><td>2015-01</td><td> 8614  </td></tr>\n",
       "\t<tr><td>2015-02</td><td>13399  </td></tr>\n",
       "\t<tr><td>2015-03</td><td>26362  </td></tr>\n",
       "\t<tr><td>2015-04</td><td>46181  </td></tr>\n",
       "\t<tr><td>2015-05</td><td>40991  </td></tr>\n",
       "\t<tr><td>2015-06</td><td>12587  </td></tr>\n",
       "\t<tr><td>2015-07</td><td> 9806  </td></tr>\n",
       "\t<tr><td>2015-08</td><td> 6520  </td></tr>\n",
       "\t<tr><td>2015-09</td><td> 6282  </td></tr>\n",
       "\t<tr><td>2015-10</td><td> 7832  </td></tr>\n",
       "\t<tr><td>2015-11</td><td>15476  </td></tr>\n",
       "\t<tr><td>2015-12</td><td>30898  </td></tr>\n",
       "</tbody>\n",
       "</table>\n"
      ],
      "text/latex": [
       "\\begin{tabular}{r|ll}\n",
       " data & tweet\\\\\n",
       "\\hline\n",
       "\t 2015-01 &  8614  \\\\\n",
       "\t 2015-02 & 13399  \\\\\n",
       "\t 2015-03 & 26362  \\\\\n",
       "\t 2015-04 & 46181  \\\\\n",
       "\t 2015-05 & 40991  \\\\\n",
       "\t 2015-06 & 12587  \\\\\n",
       "\t 2015-07 &  9806  \\\\\n",
       "\t 2015-08 &  6520  \\\\\n",
       "\t 2015-09 &  6282  \\\\\n",
       "\t 2015-10 &  7832  \\\\\n",
       "\t 2015-11 & 15476  \\\\\n",
       "\t 2015-12 & 30898  \\\\\n",
       "\\end{tabular}\n"
      ],
      "text/markdown": [
       "\n",
       "data | tweet | \n",
       "|---|---|---|---|---|---|---|---|---|---|---|---|\n",
       "| 2015-01 |  8614   | \n",
       "| 2015-02 | 13399   | \n",
       "| 2015-03 | 26362   | \n",
       "| 2015-04 | 46181   | \n",
       "| 2015-05 | 40991   | \n",
       "| 2015-06 | 12587   | \n",
       "| 2015-07 |  9806   | \n",
       "| 2015-08 |  6520   | \n",
       "| 2015-09 |  6282   | \n",
       "| 2015-10 |  7832   | \n",
       "| 2015-11 | 15476   | \n",
       "| 2015-12 | 30898   | \n",
       "\n",
       "\n"
      ],
      "text/plain": [
       "   data    tweet\n",
       "1  2015-01  8614\n",
       "2  2015-02 13399\n",
       "3  2015-03 26362\n",
       "4  2015-04 46181\n",
       "5  2015-05 40991\n",
       "6  2015-06 12587\n",
       "7  2015-07  9806\n",
       "8  2015-08  6520\n",
       "9  2015-09  6282\n",
       "10 2015-10  7832\n",
       "11 2015-11 15476\n",
       "12 2015-12 30898"
      ]
     },
     "metadata": {},
     "output_type": "display_data"
    }
   ],
   "source": [
    "rts2015"
   ]
  },
  {
   "cell_type": "code",
   "execution_count": 16,
   "metadata": {},
   "outputs": [
    {
     "data": {},
     "metadata": {},
     "output_type": "display_data"
    },
    {
     "data": {
      "image/png": "[encoded data removed]",
      "text/plain": [
       "plot without title"
      ]
     },
     "metadata": {},
     "output_type": "display_data"
    }
   ],
   "source": [
    "ggplot(data = rts2015, aes(x = data, y = as.numeric(tweet)  )) +\n",
    "  geom_bar(aes(fill = data), stat = \"identity\", fill = \"#FF6666\") +\n",
    "  theme(legend.position = \"none\", axis.text.x = element_text(angle = 45, hjust = 1)) +\n",
    "  xlab(\"Data\") + \n",
    "  ylab(\"Tweets\") + \n",
    "  ggtitle(\"Tweets 2015: RTs\")"
   ]
  },
  {
   "cell_type": "markdown",
   "metadata": {},
   "source": [
    "# Tweets 2016:"
   ]
  },
  {
   "cell_type": "code",
   "execution_count": 17,
   "metadata": {},
   "outputs": [],
   "source": [
    "all2016 <- dbGetQuery(con, paste(\"SELECT \" ,\n",
    "                          \"to_char(datatweet, 'YYYY-MM') as data, \" ,\n",
    "                          \"count(codtweet) AS tweet FROM saude \" ,\n",
    "                          \"WHERE lower(text) LIKE '%dengue%' \" ,\n",
    "                          \"AND datatweet BETWEEN '2016-01-01' AND '2016-12-31' \",\n",
    "                          \"GROUP BY 1\" ,\n",
    "                          \"ORDER BY 1\"))"
   ]
  },
  {
   "cell_type": "code",
   "execution_count": 18,
   "metadata": {},
   "outputs": [
    {
     "data": {
      "text/html": [
       "<table>\n",
       "<thead><tr><th scope=col>data</th><th scope=col>tweet</th></tr></thead>\n",
       "<tbody>\n",
       "\t<tr><td>2016-01</td><td>113365 </td></tr>\n",
       "\t<tr><td>2016-02</td><td>202738 </td></tr>\n",
       "\t<tr><td>2016-03</td><td>141683 </td></tr>\n",
       "\t<tr><td>2016-04</td><td>115606 </td></tr>\n",
       "\t<tr><td>2016-05</td><td> 45053 </td></tr>\n",
       "\t<tr><td>2016-06</td><td> 29066 </td></tr>\n",
       "\t<tr><td>2016-07</td><td> 30212 </td></tr>\n",
       "\t<tr><td>2016-08</td><td> 33484 </td></tr>\n",
       "\t<tr><td>2016-09</td><td> 16610 </td></tr>\n",
       "\t<tr><td>2016-10</td><td> 18664 </td></tr>\n",
       "\t<tr><td>2016-11</td><td> 16809 </td></tr>\n",
       "\t<tr><td>2016-12</td><td> 21040 </td></tr>\n",
       "</tbody>\n",
       "</table>\n"
      ],
      "text/latex": [
       "\\begin{tabular}{r|ll}\n",
       " data & tweet\\\\\n",
       "\\hline\n",
       "\t 2016-01 & 113365 \\\\\n",
       "\t 2016-02 & 202738 \\\\\n",
       "\t 2016-03 & 141683 \\\\\n",
       "\t 2016-04 & 115606 \\\\\n",
       "\t 2016-05 &  45053 \\\\\n",
       "\t 2016-06 &  29066 \\\\\n",
       "\t 2016-07 &  30212 \\\\\n",
       "\t 2016-08 &  33484 \\\\\n",
       "\t 2016-09 &  16610 \\\\\n",
       "\t 2016-10 &  18664 \\\\\n",
       "\t 2016-11 &  16809 \\\\\n",
       "\t 2016-12 &  21040 \\\\\n",
       "\\end{tabular}\n"
      ],
      "text/markdown": [
       "\n",
       "data | tweet | \n",
       "|---|---|---|---|---|---|---|---|---|---|---|---|\n",
       "| 2016-01 | 113365  | \n",
       "| 2016-02 | 202738  | \n",
       "| 2016-03 | 141683  | \n",
       "| 2016-04 | 115606  | \n",
       "| 2016-05 |  45053  | \n",
       "| 2016-06 |  29066  | \n",
       "| 2016-07 |  30212  | \n",
       "| 2016-08 |  33484  | \n",
       "| 2016-09 |  16610  | \n",
       "| 2016-10 |  18664  | \n",
       "| 2016-11 |  16809  | \n",
       "| 2016-12 |  21040  | \n",
       "\n",
       "\n"
      ],
      "text/plain": [
       "   data    tweet \n",
       "1  2016-01 113365\n",
       "2  2016-02 202738\n",
       "3  2016-03 141683\n",
       "4  2016-04 115606\n",
       "5  2016-05  45053\n",
       "6  2016-06  29066\n",
       "7  2016-07  30212\n",
       "8  2016-08  33484\n",
       "9  2016-09  16610\n",
       "10 2016-10  18664\n",
       "11 2016-11  16809\n",
       "12 2016-12  21040"
      ]
     },
     "metadata": {},
     "output_type": "display_data"
    }
   ],
   "source": [
    "all2016"
   ]
  },
  {
   "cell_type": "code",
   "execution_count": 19,
   "metadata": {},
   "outputs": [
    {
     "data": {},
     "metadata": {},
     "output_type": "display_data"
    },
    {
     "data": {
      "image/png": "[encoded data removed]",
      "text/plain": [
       "plot without title"
      ]
     },
     "metadata": {},
     "output_type": "display_data"
    }
   ],
   "source": [
    "ggplot(data = all2016, aes(x = data, y = as.numeric(tweet)  )) +\n",
    "  geom_bar(aes(fill = data), stat = \"identity\", fill = \"#FF6666\") +\n",
    "  theme(legend.position = \"none\", axis.text.x = element_text(angle = 45, hjust = 1)) +\n",
    "  xlab(\"Data\") + \n",
    "  ylab(\"Tweets\") + \n",
    "  ggtitle(\"Tweets 2016\")"
   ]
  },
  {
   "cell_type": "markdown",
   "metadata": {},
   "source": [
    "## Tweets sem RTs:"
   ]
  },
  {
   "cell_type": "code",
   "execution_count": 22,
   "metadata": {},
   "outputs": [],
   "source": [
    "tws2016 <- dbGetQuery(con, paste(\"SELECT \" ,\n",
    "                          \"to_char(datatweet, 'YYYY-MM') as data, \" ,\n",
    "                          \"count(codtweet) AS tweet FROM saude \" ,\n",
    "                          \"WHERE lower(text) LIKE '%dengue%' \" ,\n",
    "                          \"AND lower(text) NOT LIKE 'rt%' \" ,\n",
    "                          \"AND datatweet BETWEEN '2016-01-01' AND '2016-12-31' \",\n",
    "                          \"GROUP BY 1\" ,\n",
    "                          \"ORDER BY 1\"))"
   ]
  },
  {
   "cell_type": "code",
   "execution_count": 23,
   "metadata": {},
   "outputs": [
    {
     "data": {
      "text/html": [
       "<table>\n",
       "<thead><tr><th scope=col>data</th><th scope=col>tweet</th></tr></thead>\n",
       "<tbody>\n",
       "\t<tr><td>2016-01</td><td> 79859 </td></tr>\n",
       "\t<tr><td>2016-02</td><td>131068 </td></tr>\n",
       "\t<tr><td>2016-03</td><td> 98508 </td></tr>\n",
       "\t<tr><td>2016-04</td><td> 68936 </td></tr>\n",
       "\t<tr><td>2016-05</td><td> 33632 </td></tr>\n",
       "\t<tr><td>2016-06</td><td> 21033 </td></tr>\n",
       "\t<tr><td>2016-07</td><td> 22063 </td></tr>\n",
       "\t<tr><td>2016-08</td><td> 16523 </td></tr>\n",
       "\t<tr><td>2016-09</td><td> 11716 </td></tr>\n",
       "\t<tr><td>2016-10</td><td> 12946 </td></tr>\n",
       "\t<tr><td>2016-11</td><td> 11439 </td></tr>\n",
       "\t<tr><td>2016-12</td><td> 14026 </td></tr>\n",
       "</tbody>\n",
       "</table>\n"
      ],
      "text/latex": [
       "\\begin{tabular}{r|ll}\n",
       " data & tweet\\\\\n",
       "\\hline\n",
       "\t 2016-01 &  79859 \\\\\n",
       "\t 2016-02 & 131068 \\\\\n",
       "\t 2016-03 &  98508 \\\\\n",
       "\t 2016-04 &  68936 \\\\\n",
       "\t 2016-05 &  33632 \\\\\n",
       "\t 2016-06 &  21033 \\\\\n",
       "\t 2016-07 &  22063 \\\\\n",
       "\t 2016-08 &  16523 \\\\\n",
       "\t 2016-09 &  11716 \\\\\n",
       "\t 2016-10 &  12946 \\\\\n",
       "\t 2016-11 &  11439 \\\\\n",
       "\t 2016-12 &  14026 \\\\\n",
       "\\end{tabular}\n"
      ],
      "text/markdown": [
       "\n",
       "data | tweet | \n",
       "|---|---|---|---|---|---|---|---|---|---|---|---|\n",
       "| 2016-01 |  79859  | \n",
       "| 2016-02 | 131068  | \n",
       "| 2016-03 |  98508  | \n",
       "| 2016-04 |  68936  | \n",
       "| 2016-05 |  33632  | \n",
       "| 2016-06 |  21033  | \n",
       "| 2016-07 |  22063  | \n",
       "| 2016-08 |  16523  | \n",
       "| 2016-09 |  11716  | \n",
       "| 2016-10 |  12946  | \n",
       "| 2016-11 |  11439  | \n",
       "| 2016-12 |  14026  | \n",
       "\n",
       "\n"
      ],
      "text/plain": [
       "   data    tweet \n",
       "1  2016-01  79859\n",
       "2  2016-02 131068\n",
       "3  2016-03  98508\n",
       "4  2016-04  68936\n",
       "5  2016-05  33632\n",
       "6  2016-06  21033\n",
       "7  2016-07  22063\n",
       "8  2016-08  16523\n",
       "9  2016-09  11716\n",
       "10 2016-10  12946\n",
       "11 2016-11  11439\n",
       "12 2016-12  14026"
      ]
     },
     "metadata": {},
     "output_type": "display_data"
    }
   ],
   "source": [
    "tws2016"
   ]
  },
  {
   "cell_type": "code",
   "execution_count": 24,
   "metadata": {},
   "outputs": [
    {
     "data": {},
     "metadata": {},
     "output_type": "display_data"
    },
    {
     "data": {
      "image/png": "[encoded data removed]",
      "text/plain": [
       "plot without title"
      ]
     },
     "metadata": {},
     "output_type": "display_data"
    }
   ],
   "source": [
    "ggplot(data = tws2016, aes(x = data, y = as.numeric(tweet)  )) +\n",
    "  geom_bar(aes(fill = data), stat = \"identity\", fill = \"#FF6666\") +\n",
    "  theme(legend.position = \"none\", axis.text.x = element_text(angle = 45, hjust = 1)) +\n",
    "  xlab(\"Data\") + \n",
    "  ylab(\"Tweets\") + \n",
    "  ggtitle(\"Tweets 2016: sem RTs\")"
   ]
  },
  {
   "cell_type": "markdown",
   "metadata": {},
   "source": [
    "## Somente RTs:"
   ]
  },
  {
   "cell_type": "code",
   "execution_count": 25,
   "metadata": {},
   "outputs": [],
   "source": [
    "rts2016 <- dbGetQuery(con, paste(\"SELECT \" ,\n",
    "                          \"to_char(datatweet, 'YYYY-MM') as data, \" ,\n",
    "                          \"count(codtweet) AS tweet FROM saude \" ,\n",
    "                          \"WHERE lower(text) LIKE '%dengue%' \" ,\n",
    "                          \"AND lower(text) LIKE 'rt%' \" ,\n",
    "                          \"AND datatweet BETWEEN '2016-01-01' AND '2016-12-31' \",\n",
    "                          \"GROUP BY 1\" ,\n",
    "                          \"ORDER BY 1\"))"
   ]
  },
  {
   "cell_type": "code",
   "execution_count": 26,
   "metadata": {},
   "outputs": [
    {
     "data": {
      "text/html": [
       "<table>\n",
       "<thead><tr><th scope=col>data</th><th scope=col>tweet</th></tr></thead>\n",
       "<tbody>\n",
       "\t<tr><td>2016-01</td><td>33506  </td></tr>\n",
       "\t<tr><td>2016-02</td><td>71670  </td></tr>\n",
       "\t<tr><td>2016-03</td><td>43175  </td></tr>\n",
       "\t<tr><td>2016-04</td><td>46670  </td></tr>\n",
       "\t<tr><td>2016-05</td><td>11421  </td></tr>\n",
       "\t<tr><td>2016-06</td><td> 8033  </td></tr>\n",
       "\t<tr><td>2016-07</td><td> 8149  </td></tr>\n",
       "\t<tr><td>2016-08</td><td>16961  </td></tr>\n",
       "\t<tr><td>2016-09</td><td> 4894  </td></tr>\n",
       "\t<tr><td>2016-10</td><td> 5718  </td></tr>\n",
       "\t<tr><td>2016-11</td><td> 5370  </td></tr>\n",
       "\t<tr><td>2016-12</td><td> 7014  </td></tr>\n",
       "</tbody>\n",
       "</table>\n"
      ],
      "text/latex": [
       "\\begin{tabular}{r|ll}\n",
       " data & tweet\\\\\n",
       "\\hline\n",
       "\t 2016-01 & 33506  \\\\\n",
       "\t 2016-02 & 71670  \\\\\n",
       "\t 2016-03 & 43175  \\\\\n",
       "\t 2016-04 & 46670  \\\\\n",
       "\t 2016-05 & 11421  \\\\\n",
       "\t 2016-06 &  8033  \\\\\n",
       "\t 2016-07 &  8149  \\\\\n",
       "\t 2016-08 & 16961  \\\\\n",
       "\t 2016-09 &  4894  \\\\\n",
       "\t 2016-10 &  5718  \\\\\n",
       "\t 2016-11 &  5370  \\\\\n",
       "\t 2016-12 &  7014  \\\\\n",
       "\\end{tabular}\n"
      ],
      "text/markdown": [
       "\n",
       "data | tweet | \n",
       "|---|---|---|---|---|---|---|---|---|---|---|---|\n",
       "| 2016-01 | 33506   | \n",
       "| 2016-02 | 71670   | \n",
       "| 2016-03 | 43175   | \n",
       "| 2016-04 | 46670   | \n",
       "| 2016-05 | 11421   | \n",
       "| 2016-06 |  8033   | \n",
       "| 2016-07 |  8149   | \n",
       "| 2016-08 | 16961   | \n",
       "| 2016-09 |  4894   | \n",
       "| 2016-10 |  5718   | \n",
       "| 2016-11 |  5370   | \n",
       "| 2016-12 |  7014   | \n",
       "\n",
       "\n"
      ],
      "text/plain": [
       "   data    tweet\n",
       "1  2016-01 33506\n",
       "2  2016-02 71670\n",
       "3  2016-03 43175\n",
       "4  2016-04 46670\n",
       "5  2016-05 11421\n",
       "6  2016-06  8033\n",
       "7  2016-07  8149\n",
       "8  2016-08 16961\n",
       "9  2016-09  4894\n",
       "10 2016-10  5718\n",
       "11 2016-11  5370\n",
       "12 2016-12  7014"
      ]
     },
     "metadata": {},
     "output_type": "display_data"
    }
   ],
   "source": [
    "rts2016"
   ]
  },
  {
   "cell_type": "code",
   "execution_count": 27,
   "metadata": {},
   "outputs": [
    {
     "data": {},
     "metadata": {},
     "output_type": "display_data"
    },
    {
     "data": {
      "image/png": "[encoded data removed]",
      "text/plain": [
       "plot without title"
      ]
     },
     "metadata": {},
     "output_type": "display_data"
    }
   ],
   "source": [
    "ggplot(data = rts2016, aes(x = data, y = as.numeric(tweet)  )) +\n",
    "  geom_bar(aes(fill = data), stat = \"identity\", fill = \"#FF6666\") +\n",
    "  theme(legend.position = \"none\", axis.text.x = element_text(angle = 45, hjust = 1)) +\n",
    "  xlab(\"Data\") + \n",
    "  ylab(\"Tweets\") + \n",
    "  ggtitle(\"Tweets 2016: RTs\")"
   ]
  },
  {
   "cell_type": "markdown",
   "metadata": {},
   "source": [
    "# Tweets 2017:"
   ]
  },
  {
   "cell_type": "code",
   "execution_count": 28,
   "metadata": {},
   "outputs": [],
   "source": [
    "all2017 <- dbGetQuery(con, paste(\"SELECT \" ,\n",
    "                          \"to_char(datatweet, 'YYYY-MM') as data, \" ,\n",
    "                          \"count(codtweet) AS tweet FROM saude \" ,\n",
    "                          \"WHERE lower(text) LIKE '%dengue%' \" ,\n",
    "                          \"AND datatweet BETWEEN '2017-01-01' AND '2017-12-31' \",\n",
    "                          \"GROUP BY 1\" ,\n",
    "                          \"ORDER BY 1\"))"
   ]
  },
  {
   "cell_type": "code",
   "execution_count": 29,
   "metadata": {},
   "outputs": [
    {
     "data": {
      "text/html": [
       "<table>\n",
       "<thead><tr><th scope=col>data</th><th scope=col>tweet</th></tr></thead>\n",
       "<tbody>\n",
       "\t<tr><td>2017-01</td><td>28217  </td></tr>\n",
       "\t<tr><td>2017-02</td><td>32284  </td></tr>\n",
       "\t<tr><td>2017-03</td><td>19772  </td></tr>\n",
       "\t<tr><td>2017-04</td><td>15405  </td></tr>\n",
       "\t<tr><td>2017-05</td><td>26087  </td></tr>\n",
       "\t<tr><td>2017-06</td><td>12024  </td></tr>\n",
       "\t<tr><td>2017-07</td><td>11639  </td></tr>\n",
       "\t<tr><td>2017-08</td><td> 9153  </td></tr>\n",
       "\t<tr><td>2017-09</td><td> 9636  </td></tr>\n",
       "\t<tr><td>2017-10</td><td>13944  </td></tr>\n",
       "\t<tr><td>2017-11</td><td>16177  </td></tr>\n",
       "\t<tr><td>2017-12</td><td>14226  </td></tr>\n",
       "</tbody>\n",
       "</table>\n"
      ],
      "text/latex": [
       "\\begin{tabular}{r|ll}\n",
       " data & tweet\\\\\n",
       "\\hline\n",
       "\t 2017-01 & 28217  \\\\\n",
       "\t 2017-02 & 32284  \\\\\n",
       "\t 2017-03 & 19772  \\\\\n",
       "\t 2017-04 & 15405  \\\\\n",
       "\t 2017-05 & 26087  \\\\\n",
       "\t 2017-06 & 12024  \\\\\n",
       "\t 2017-07 & 11639  \\\\\n",
       "\t 2017-08 &  9153  \\\\\n",
       "\t 2017-09 &  9636  \\\\\n",
       "\t 2017-10 & 13944  \\\\\n",
       "\t 2017-11 & 16177  \\\\\n",
       "\t 2017-12 & 14226  \\\\\n",
       "\\end{tabular}\n"
      ],
      "text/markdown": [
       "\n",
       "data | tweet | \n",
       "|---|---|---|---|---|---|---|---|---|---|---|---|\n",
       "| 2017-01 | 28217   | \n",
       "| 2017-02 | 32284   | \n",
       "| 2017-03 | 19772   | \n",
       "| 2017-04 | 15405   | \n",
       "| 2017-05 | 26087   | \n",
       "| 2017-06 | 12024   | \n",
       "| 2017-07 | 11639   | \n",
       "| 2017-08 |  9153   | \n",
       "| 2017-09 |  9636   | \n",
       "| 2017-10 | 13944   | \n",
       "| 2017-11 | 16177   | \n",
       "| 2017-12 | 14226   | \n",
       "\n",
       "\n"
      ],
      "text/plain": [
       "   data    tweet\n",
       "1  2017-01 28217\n",
       "2  2017-02 32284\n",
       "3  2017-03 19772\n",
       "4  2017-04 15405\n",
       "5  2017-05 26087\n",
       "6  2017-06 12024\n",
       "7  2017-07 11639\n",
       "8  2017-08  9153\n",
       "9  2017-09  9636\n",
       "10 2017-10 13944\n",
       "11 2017-11 16177\n",
       "12 2017-12 14226"
      ]
     },
     "metadata": {},
     "output_type": "display_data"
    }
   ],
   "source": [
    "all2017"
   ]
  },
  {
   "cell_type": "code",
   "execution_count": 30,
   "metadata": {},
   "outputs": [
    {
     "data": {},
     "metadata": {},
     "output_type": "display_data"
    },
    {
     "data": {
      "image/png": "[encoded data removed]",
      "text/plain": [
       "plot without title"
      ]
     },
     "metadata": {},
     "output_type": "display_data"
    }
   ],
   "source": [
    "ggplot(data = all2017, aes(x = data, y = as.numeric(tweet)  )) +\n",
    "  geom_bar(aes(fill = data), stat = \"identity\", fill = \"#FF6666\") +\n",
    "  theme(legend.position = \"none\", axis.text.x = element_text(angle = 45, hjust = 1)) +\n",
    "  xlab(\"Data\") + \n",
    "  ylab(\"Tweets\") + \n",
    "  ggtitle(\"Tweets 2017\")"
   ]
  },
  {
   "cell_type": "markdown",
   "metadata": {},
   "source": [
    "## Tweets sem RTs:"
   ]
  },
  {
   "cell_type": "code",
   "execution_count": 31,
   "metadata": {},
   "outputs": [],
   "source": [
    "tws2017 <- dbGetQuery(con, paste(\"SELECT \" ,\n",
    "                          \"to_char(datatweet, 'YYYY-MM') as data, \" ,\n",
    "                          \"count(codtweet) AS tweet FROM saude \" ,\n",
    "                          \"WHERE lower(text) LIKE '%dengue%' \" ,\n",
    "                          \"AND lower(text) NOT LIKE 'rt%' \" ,\n",
    "                          \"AND datatweet BETWEEN '2017-01-01' AND '2017-12-31' \",\n",
    "                          \"GROUP BY 1\" ,\n",
    "                          \"ORDER BY 1\"))"
   ]
  },
  {
   "cell_type": "code",
   "execution_count": 32,
   "metadata": {},
   "outputs": [
    {
     "data": {
      "text/html": [
       "<table>\n",
       "<thead><tr><th scope=col>data</th><th scope=col>tweet</th></tr></thead>\n",
       "<tbody>\n",
       "\t<tr><td>2017-01</td><td>17670  </td></tr>\n",
       "\t<tr><td>2017-02</td><td>12692  </td></tr>\n",
       "\t<tr><td>2017-03</td><td>13628  </td></tr>\n",
       "\t<tr><td>2017-04</td><td> 9732  </td></tr>\n",
       "\t<tr><td>2017-05</td><td> 8504  </td></tr>\n",
       "\t<tr><td>2017-06</td><td> 6739  </td></tr>\n",
       "\t<tr><td>2017-07</td><td> 6017  </td></tr>\n",
       "\t<tr><td>2017-08</td><td> 5878  </td></tr>\n",
       "\t<tr><td>2017-09</td><td> 6381  </td></tr>\n",
       "\t<tr><td>2017-10</td><td> 6805  </td></tr>\n",
       "\t<tr><td>2017-11</td><td> 8367  </td></tr>\n",
       "\t<tr><td>2017-12</td><td> 8326  </td></tr>\n",
       "</tbody>\n",
       "</table>\n"
      ],
      "text/latex": [
       "\\begin{tabular}{r|ll}\n",
       " data & tweet\\\\\n",
       "\\hline\n",
       "\t 2017-01 & 17670  \\\\\n",
       "\t 2017-02 & 12692  \\\\\n",
       "\t 2017-03 & 13628  \\\\\n",
       "\t 2017-04 &  9732  \\\\\n",
       "\t 2017-05 &  8504  \\\\\n",
       "\t 2017-06 &  6739  \\\\\n",
       "\t 2017-07 &  6017  \\\\\n",
       "\t 2017-08 &  5878  \\\\\n",
       "\t 2017-09 &  6381  \\\\\n",
       "\t 2017-10 &  6805  \\\\\n",
       "\t 2017-11 &  8367  \\\\\n",
       "\t 2017-12 &  8326  \\\\\n",
       "\\end{tabular}\n"
      ],
      "text/markdown": [
       "\n",
       "data | tweet | \n",
       "|---|---|---|---|---|---|---|---|---|---|---|---|\n",
       "| 2017-01 | 17670   | \n",
       "| 2017-02 | 12692   | \n",
       "| 2017-03 | 13628   | \n",
       "| 2017-04 |  9732   | \n",
       "| 2017-05 |  8504   | \n",
       "| 2017-06 |  6739   | \n",
       "| 2017-07 |  6017   | \n",
       "| 2017-08 |  5878   | \n",
       "| 2017-09 |  6381   | \n",
       "| 2017-10 |  6805   | \n",
       "| 2017-11 |  8367   | \n",
       "| 2017-12 |  8326   | \n",
       "\n",
       "\n"
      ],
      "text/plain": [
       "   data    tweet\n",
       "1  2017-01 17670\n",
       "2  2017-02 12692\n",
       "3  2017-03 13628\n",
       "4  2017-04  9732\n",
       "5  2017-05  8504\n",
       "6  2017-06  6739\n",
       "7  2017-07  6017\n",
       "8  2017-08  5878\n",
       "9  2017-09  6381\n",
       "10 2017-10  6805\n",
       "11 2017-11  8367\n",
       "12 2017-12  8326"
      ]
     },
     "metadata": {},
     "output_type": "display_data"
    }
   ],
   "source": [
    "tws2017"
   ]
  },
  {
   "cell_type": "code",
   "execution_count": 33,
   "metadata": {},
   "outputs": [
    {
     "data": {},
     "metadata": {},
     "output_type": "display_data"
    },
    {
     "data": {
      "image/png": "[encoded data removed]",
      "text/plain": [
       "plot without title"
      ]
     },
     "metadata": {},
     "output_type": "display_data"
    }
   ],
   "source": [
    "ggplot(data = tws2017, aes(x = data, y = as.numeric(tweet)  )) +\n",
    "  geom_bar(aes(fill = data), stat = \"identity\", fill = \"#FF6666\") +\n",
    "  theme(legend.position = \"none\", axis.text.x = element_text(angle = 45, hjust = 1)) +\n",
    "  ylab(\"Tweets\") + \n",
    "  ggtitle(\"Tweets 2017: sem RTs\")"
   ]
  },
  {
   "cell_type": "markdown",
   "metadata": {},
   "source": [
    "## Somente RTs:"
   ]
  },
  {
   "cell_type": "code",
   "execution_count": 34,
   "metadata": {},
   "outputs": [],
   "source": [
    "rts2017 <- dbGetQuery(con, paste(\"SELECT \" ,\n",
    "                          \"to_char(datatweet, 'YYYY-MM') as data, \" ,\n",
    "                          \"count(codtweet) AS tweet FROM saude \" ,\n",
    "                          \"WHERE lower(text) LIKE '%dengue%' \" ,\n",
    "                          \"AND lower(text) LIKE 'rt%' \" ,\n",
    "                          \"AND datatweet BETWEEN '2017-01-01' AND '2017-12-31' \",\n",
    "                          \"GROUP BY 1\" ,\n",
    "                          \"ORDER BY 1\"))"
   ]
  },
  {
   "cell_type": "code",
   "execution_count": 35,
   "metadata": {},
   "outputs": [
    {
     "data": {
      "text/html": [
       "<table>\n",
       "<thead><tr><th scope=col>data</th><th scope=col>tweet</th></tr></thead>\n",
       "<tbody>\n",
       "\t<tr><td>2017-01</td><td>10547  </td></tr>\n",
       "\t<tr><td>2017-02</td><td>19592  </td></tr>\n",
       "\t<tr><td>2017-03</td><td> 6144  </td></tr>\n",
       "\t<tr><td>2017-04</td><td> 5673  </td></tr>\n",
       "\t<tr><td>2017-05</td><td>17583  </td></tr>\n",
       "\t<tr><td>2017-06</td><td> 5285  </td></tr>\n",
       "\t<tr><td>2017-07</td><td> 5622  </td></tr>\n",
       "\t<tr><td>2017-08</td><td> 3275  </td></tr>\n",
       "\t<tr><td>2017-09</td><td> 3255  </td></tr>\n",
       "\t<tr><td>2017-10</td><td> 7139  </td></tr>\n",
       "\t<tr><td>2017-11</td><td> 7810  </td></tr>\n",
       "\t<tr><td>2017-12</td><td> 5900  </td></tr>\n",
       "</tbody>\n",
       "</table>\n"
      ],
      "text/latex": [
       "\\begin{tabular}{r|ll}\n",
       " data & tweet\\\\\n",
       "\\hline\n",
       "\t 2017-01 & 10547  \\\\\n",
       "\t 2017-02 & 19592  \\\\\n",
       "\t 2017-03 &  6144  \\\\\n",
       "\t 2017-04 &  5673  \\\\\n",
       "\t 2017-05 & 17583  \\\\\n",
       "\t 2017-06 &  5285  \\\\\n",
       "\t 2017-07 &  5622  \\\\\n",
       "\t 2017-08 &  3275  \\\\\n",
       "\t 2017-09 &  3255  \\\\\n",
       "\t 2017-10 &  7139  \\\\\n",
       "\t 2017-11 &  7810  \\\\\n",
       "\t 2017-12 &  5900  \\\\\n",
       "\\end{tabular}\n"
      ],
      "text/markdown": [
       "\n",
       "data | tweet | \n",
       "|---|---|---|---|---|---|---|---|---|---|---|---|\n",
       "| 2017-01 | 10547   | \n",
       "| 2017-02 | 19592   | \n",
       "| 2017-03 |  6144   | \n",
       "| 2017-04 |  5673   | \n",
       "| 2017-05 | 17583   | \n",
       "| 2017-06 |  5285   | \n",
       "| 2017-07 |  5622   | \n",
       "| 2017-08 |  3275   | \n",
       "| 2017-09 |  3255   | \n",
       "| 2017-10 |  7139   | \n",
       "| 2017-11 |  7810   | \n",
       "| 2017-12 |  5900   | \n",
       "\n",
       "\n"
      ],
      "text/plain": [
       "   data    tweet\n",
       "1  2017-01 10547\n",
       "2  2017-02 19592\n",
       "3  2017-03  6144\n",
       "4  2017-04  5673\n",
       "5  2017-05 17583\n",
       "6  2017-06  5285\n",
       "7  2017-07  5622\n",
       "8  2017-08  3275\n",
       "9  2017-09  3255\n",
       "10 2017-10  7139\n",
       "11 2017-11  7810\n",
       "12 2017-12  5900"
      ]
     },
     "metadata": {},
     "output_type": "display_data"
    }
   ],
   "source": [
    "rts2017"
   ]
  },
  {
   "cell_type": "code",
   "execution_count": 37,
   "metadata": {},
   "outputs": [
    {
     "data": {},
     "metadata": {},
     "output_type": "display_data"
    },
    {
     "data": {
      "image/png": "[encoded data removed]",
      "text/plain": [
       "plot without title"
      ]
     },
     "metadata": {},
     "output_type": "display_data"
    }
   ],
   "source": [
    "ggplot(data = rts2017, aes(x = data, y = as.numeric(tweet)  )) +\n",
    "  geom_bar(aes(fill = data), stat = \"identity\", fill = \"#FF6666\") +\n",
    "  theme(legend.position = \"none\", axis.text.x = element_text(angle = 45, hjust = 1)) +\n",
    "  xlab(\"Data\") + \n",
    "  ylab(\"Tweets\") + \n",
    "  ggtitle(\"Tweets 2017: RTs\")"
   ]
  },
  {
   "cell_type": "code",
   "execution_count": null,
   "metadata": {},
   "outputs": [],
   "source": []
  },
  {
   "cell_type": "code",
   "execution_count": null,
   "metadata": {},
   "outputs": [],
   "source": []
  }
 ],
 "metadata": {
  "kernelspec": {
   "display_name": "R 3.4.3",
   "language": "R",
   "name": "ir343"
  },
  "language_info": {
   "codemirror_mode": "r",
   "file_extension": ".r",
   "mimetype": "text/x-r-source",
   "name": "R",
   "pygments_lexer": "r",
   "version": "3.4.4"
  }
 },
 "nbformat": 4,
 "nbformat_minor": 2
}
